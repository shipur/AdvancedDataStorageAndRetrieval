{
 "cells": [
  {
   "cell_type": "code",
   "execution_count": 45,
   "metadata": {
    "collapsed": true
   },
   "outputs": [],
   "source": [
    "import sqlalchemy\n",
    "from sqlalchemy.ext.automap import automap_base\n",
    "from sqlalchemy.orm import Session\n",
    "from sqlalchemy import create_engine, func\n",
    "\n",
    "from flask import Flask, jsonify\n",
    "\n",
    "import pandas as pd\n",
    "import numpy as np\n",
    "import os\n",
    "import datetime as dt"
   ]
  },
  {
   "cell_type": "code",
   "execution_count": 46,
   "metadata": {
    "collapsed": true
   },
   "outputs": [],
   "source": [
    "#################################################\n",
    "# Database Setup\n",
    "#################################################\n",
    "engine = create_engine(\"sqlite:///hawaii.sqlite\")\n",
    "\n",
    "# reflect an existing database into a new model\n",
    "Base = automap_base()\n",
    "# reflect the tables\n",
    "Base.prepare(engine, reflect=True)\n",
    "\n",
    "# Save reference to the tables\n",
    "Measurements = Base.classes.measurements\n",
    "Stations = Base.classes.stations\n",
    "\n",
    "# Create our session (link) from Python to the DB\n",
    "session = Session(engine)\n",
    "\n",
    "#################################################\n",
    "# Flask Setup\n",
    "#################################################\n",
    "app = Flask(__name__)\n"
   ]
  },
  {
   "cell_type": "code",
   "execution_count": 47,
   "metadata": {},
   "outputs": [
    {
     "name": "stderr",
     "output_type": "stream",
     "text": [
      " * Running on http://127.0.0.1:5000/ (Press CTRL+C to quit)\n",
      "127.0.0.1 - - [24/Apr/2018 13:38:17] \"GET / HTTP/1.1\" 200 -\n",
      "127.0.0.1 - - [24/Apr/2018 13:38:24] \"GET /api/v1.0/precipitation HTTP/1.1\" 200 -\n",
      "127.0.0.1 - - [24/Apr/2018 13:38:32] \"GET /api/v1.0/precipitation HTTP/1.1\" 200 -\n",
      "127.0.0.1 - - [24/Apr/2018 13:38:39] \"GET /api/v1.0/stations HTTP/1.1\" 200 -\n",
      "127.0.0.1 - - [24/Apr/2018 13:38:45] \"GET /api/v1.0/tobs HTTP/1.1\" 200 -\n"
     ]
    }
   ],
   "source": [
    "#################################################\n",
    "# Flask Routes\n",
    "#################################################\n",
    "\n",
    "@app.route(\"/\")\n",
    "def welcome():\n",
    "    \"\"\"List all available api routes.\"\"\"\n",
    "    return (\n",
    "        f\"Available Routes:<br/>\"\n",
    "        f\"/api/v1.0/precipitation<br/>\"\n",
    "        f\"/api/v1.0/stations<br/>\"\n",
    "        f\"/api/v1.0/tobs\"\n",
    "#         f\"/api/v1.0/<start><br/>\"\n",
    "#         f\"/api/v1.0/<start>/<end><br/>\"\n",
    "    )\n",
    "\n",
    "@app.route(\"/api/v1.0/tobs\")\n",
    "def tobs():\n",
    "    \"\"\"Query for the dates and temperature observations from the last year.\n",
    "\n",
    "      * Convert the query results to a Dictionary using `date` as the key and `tobs` as the value.\n",
    "\n",
    "      * Return the json representation of your dictionary.\"\"\"\n",
    "    startDate = dt.date(2014, 8 ,15)\n",
    "    # date 1 year ago from start_date\n",
    "    year_ago = startDate - dt.timedelta(days=365)\n",
    "    \n",
    "    sel = [Measurements.date, Measurements.tobs]\n",
    "\n",
    "    tobs_data = session.query(*sel).\\\n",
    "    filter(Measurements.station == Stations.station).filter(Measurements.date <= startDate).\\\n",
    "    filter(Measurements.date >= year_ago).all()\n",
    "    \n",
    "    tobs_data\n",
    "\n",
    "    # Convert list of tuples into normal list\n",
    "    all_prec = list(np.ravel(tobs_data))\n",
    "    #prec_dict = {k: all_prec[0] for k in all_prec[1]}\n",
    "    return jsonify(all_prec)\n",
    "\n",
    "\n",
    "# Return a json list of stations from the dataset.\n",
    "@app.route(\"/api/v1.0/stations\")\n",
    "def stations():\n",
    "    \n",
    "    sel = [Stations.name]\n",
    "\n",
    "    tobs_data = session.query(*sel).filter(Measurements.station == Stations.station).group_by(Measurements.station).all()\n",
    "    \n",
    "    tobs_data\n",
    "\n",
    "    # Convert list of tuples into normal list\n",
    "    all_data = list(np.ravel(tobs_data))\n",
    "    return jsonify(all_data)\n",
    "\n",
    "@app.route(\"/api/v1.0/precipitation\")\n",
    "def precipitation():\n",
    "    startDate = dt.date(2014, 8 ,15)\n",
    "    # date 1 year ago from start_date\n",
    "    year_ago = startDate - dt.timedelta(days=365)\n",
    "    \n",
    "    sel = [Measurements.date, Measurements.prcp]\n",
    "\n",
    "    prcp_data = session.query(*sel).\\\n",
    "    filter(Measurements.station == Stations.station).filter(Measurements.date <= startDate).\\\n",
    "    filter(Measurements.date >= year_ago).all()\n",
    "    \n",
    "    prcp_data\n",
    "\n",
    "    # Convert list of tuples into normal list\n",
    "    all_prec = list(np.ravel(prcp_data))\n",
    "    #prec_dict = {k: all_prec[0] for k in all_prec[1]}\n",
    "    return jsonify(all_prec)\n",
    "\n",
    "\n",
    "if __name__ == '__main__':\n",
    "    app.run(debug=False) # debug=False for Jupyter notebook"
   ]
  },
  {
   "cell_type": "code",
   "execution_count": null,
   "metadata": {
    "collapsed": true
   },
   "outputs": [],
   "source": []
  }
 ],
 "metadata": {
  "kernelspec": {
   "display_name": "Python 3",
   "language": "python",
   "name": "python3"
  },
  "language_info": {
   "codemirror_mode": {
    "name": "ipython",
    "version": 3
   },
   "file_extension": ".py",
   "mimetype": "text/x-python",
   "name": "python",
   "nbconvert_exporter": "python",
   "pygments_lexer": "ipython3",
   "version": "3.6.3"
  }
 },
 "nbformat": 4,
 "nbformat_minor": 2
}
